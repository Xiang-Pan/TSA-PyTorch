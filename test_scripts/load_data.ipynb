{
 "cells": [
  {
   "cell_type": "code",
   "execution_count": 5,
   "metadata": {},
   "outputs": [],
   "source": [
    "import numpy as np\n",
    "import torch\n",
    "import torch.nn.functional as F\n",
    "from models.lcf_bert import LCF_BERT\n",
    "from models.aen import AEN_BERT\n",
    "from models.bert_spc import BERT_SPC\n",
    "from pytorch_transformers import BertModel\n",
    "from data_utils import Tokenizer4Bert\n",
    "import argparse"
   ]
  },
  {
   "cell_type": "code",
   "execution_count": 6,
   "metadata": {},
   "outputs": [],
   "source": [
    "\n",
    "def pad_and_truncate(sequence, maxlen, dtype='int64', padding='post', truncating='post', value=0):\n",
    "    x = (np.ones(maxlen) * value).astype(dtype)\n",
    "    if truncating == 'pre':\n",
    "        trunc = sequence[-maxlen:]\n",
    "    else:\n",
    "        trunc = sequence[:maxlen]\n",
    "    trunc = np.asarray(trunc, dtype=dtype)\n",
    "    if padding == 'post':\n",
    "        x[:len(trunc)] = trunc\n",
    "    else:\n",
    "        x[-len(trunc):] = trunc\n",
    "    return x\n",
    "\n",
    "def prepare_data(text_left, aspect, text_right, tokenizer):\n",
    "    text_left = text_left.lower().strip()\n",
    "    text_right = text_right.lower().strip()\n",
    "    aspect = aspect.lower().strip()\n",
    "    \n",
    "    text_raw_indices = tokenizer.text_to_sequence(text_left + \" \" + aspect + \" \" + text_right)            \n",
    "    aspect_indices = tokenizer.text_to_sequence(aspect)\n",
    "    aspect_len = np.sum(aspect_indices != 0)\n",
    "    text_bert_indices = tokenizer.text_to_sequence('[CLS] ' + text_left + \" \" + aspect + \" \" + text_right + ' [SEP] ' + aspect + \" [SEP]\")\n",
    "    text_raw_bert_indices = tokenizer.text_to_sequence(\n",
    "        \"[CLS] \" + text_left + \" \" + aspect + \" \" + text_right + \" [SEP]\")\n",
    "    bert_segments_ids = np.asarray([0] * (np.sum(text_raw_indices != 0) + 2) + [1] * (aspect_len + 1))\n",
    "    bert_segments_ids = pad_and_truncate(bert_segments_ids, tokenizer.max_seq_len)\n",
    "    aspect_bert_indices = tokenizer.text_to_sequence(\"[CLS] \" + aspect + \" [SEP]\")\n",
    "\n",
    "    return text_bert_indices, bert_segments_ids, text_raw_bert_indices, aspect_bert_indices\n",
    "\n",
    "\n",
    "def get_parameters():\n",
    "    parser = argparse.ArgumentParser()\n",
    "    parser.add_argument('--model_name', default='lcf_bert', type=str)\n",
    "    parser.add_argument('--dataset', default='laptop', type=str, help='twitter, restaurant, laptop')\n",
    "    parser.add_argument('--optimizer', default='adam', type=str)\n",
    "    parser.add_argument('--initializer', default='xavier_uniform_', type=str)\n",
    "    parser.add_argument('--learning_rate', default=2e-5, type=float, help='try 5e-5, 2e-5 for BERT, 1e-3 for others')\n",
    "    parser.add_argument('--dropout', default=0.1, type=float)\n",
    "    parser.add_argument('--l2reg', default=0.01, type=float)\n",
    "    parser.add_argument('--num_epoch', default=10, type=int, help='try larger number for non-BERT models')\n",
    "    parser.add_argument('--batch_size', default=16, type=int, help='try 16, 32, 64 for BERT models')\n",
    "    parser.add_argument('--log_step', default=5, type=int)\n",
    "    parser.add_argument('--embed_dim', default=300, type=int)\n",
    "    parser.add_argument('--hidden_dim', default=300, type=int)\n",
    "    parser.add_argument('--bert_dim', default=768, type=int)\n",
    "    parser.add_argument('--pretrained_bert_name', default='bert-base-uncased', type=str)\n",
    "    parser.add_argument('--max_seq_len', default=80, type=int)\n",
    "    parser.add_argument('--polarities_dim', default=3, type=int)\n",
    "    parser.add_argument('--hops', default=3, type=int)\n",
    "    parser.add_argument('--device', default=None, type=str, help='e.g. cuda:0')\n",
    "    parser.add_argument('--seed', default=None, type=int, help='set seed for reproducibility')\n",
    "    parser.add_argument('--valset_ratio', default=0, type=float,\n",
    "                        help='set ratio between 0 and 1 for validation support')\n",
    "    # The following parameters are only valid for the lcf-bert model\n",
    "    parser.add_argument('--local_context_focus', default='cdm', type=str, help='local context focus mode, cdw or cdm')\n",
    "    parser.add_argument('--SRD', default=3, type=int,\n",
    "                        help='semantic-relative-distance, see the paper of LCF-BERT model')\n",
    "    opt = parser.parse_args(args=[])\n",
    "    return opt\n"
   ]
  },
  {
   "cell_type": "code",
   "execution_count": 7,
   "metadata": {},
   "outputs": [
    {
     "data": {
      "text/plain": [
       "Namespace(SRD=3, batch_size=16, bert_dim=768, dataset='laptop', device=device(type='cuda'), dropout=0.1, embed_dim=300, hidden_dim=300, hops=3, initializer='xavier_uniform_', l2reg=0.01, learning_rate=2e-05, local_context_focus='cdm', log_step=5, max_seq_len=80, model_name='lcf_bert', num_epoch=10, optimizer='adam', polarities_dim=3, pretrained_bert_name='bert-base-uncased', seed=None, valset_ratio=0)"
      ]
     },
     "execution_count": 7,
     "metadata": {},
     "output_type": "execute_result"
    }
   ],
   "source": [
    "\\"
   ]
  },
  {
   "cell_type": "code",
   "execution_count": 8,
   "metadata": {},
   "outputs": [
    {
     "name": "stdout",
     "output_type": "stream",
     "text": [
      "loading model lcf_bert ...\n"
     ]
    },
    {
     "ename": "FileNotFoundError",
     "evalue": "[Errno 2] No such file or directory: 'state_dict/lcf_bert_laptop_val_acc0.2492'",
     "output_type": "error",
     "traceback": [
      "\u001b[0;31m---------------------------------------------------------------------------\u001b[0m",
      "\u001b[0;31mFileNotFoundError\u001b[0m                         Traceback (most recent call last)",
      "\u001b[0;32m<ipython-input-8-5434b142e6aa>\u001b[0m in \u001b[0;36m<module>\u001b[0;34m\u001b[0m\n\u001b[1;32m     21\u001b[0m \u001b[0;34m\u001b[0m\u001b[0m\n\u001b[1;32m     22\u001b[0m     \u001b[0mprint\u001b[0m\u001b[0;34m(\u001b[0m\u001b[0;34m'loading model {0} ...'\u001b[0m\u001b[0;34m.\u001b[0m\u001b[0mformat\u001b[0m\u001b[0;34m(\u001b[0m\u001b[0mopt\u001b[0m\u001b[0;34m.\u001b[0m\u001b[0mmodel_name\u001b[0m\u001b[0;34m)\u001b[0m\u001b[0;34m)\u001b[0m\u001b[0;34m\u001b[0m\u001b[0;34m\u001b[0m\u001b[0m\n\u001b[0;32m---> 23\u001b[0;31m     \u001b[0mmodel\u001b[0m\u001b[0;34m.\u001b[0m\u001b[0mload_state_dict\u001b[0m\u001b[0;34m(\u001b[0m\u001b[0mtorch\u001b[0m\u001b[0;34m.\u001b[0m\u001b[0mload\u001b[0m\u001b[0;34m(\u001b[0m\u001b[0mstate_dict_paths\u001b[0m\u001b[0;34m[\u001b[0m\u001b[0mopt\u001b[0m\u001b[0;34m.\u001b[0m\u001b[0mmodel_name\u001b[0m\u001b[0;34m]\u001b[0m\u001b[0;34m)\u001b[0m\u001b[0;34m)\u001b[0m\u001b[0;34m\u001b[0m\u001b[0;34m\u001b[0m\u001b[0m\n\u001b[0m\u001b[1;32m     24\u001b[0m     \u001b[0mmodel\u001b[0m\u001b[0;34m.\u001b[0m\u001b[0meval\u001b[0m\u001b[0;34m(\u001b[0m\u001b[0;34m)\u001b[0m\u001b[0;34m\u001b[0m\u001b[0;34m\u001b[0m\u001b[0m\n\u001b[1;32m     25\u001b[0m     \u001b[0mtorch\u001b[0m\u001b[0;34m.\u001b[0m\u001b[0mautograd\u001b[0m\u001b[0;34m.\u001b[0m\u001b[0mset_grad_enabled\u001b[0m\u001b[0;34m(\u001b[0m\u001b[0;32mFalse\u001b[0m\u001b[0;34m)\u001b[0m\u001b[0;34m\u001b[0m\u001b[0;34m\u001b[0m\u001b[0m\n",
      "\u001b[0;32m~/anaconda3/envs/tf/lib/python3.7/site-packages/torch/serialization.py\u001b[0m in \u001b[0;36mload\u001b[0;34m(f, map_location, pickle_module, **pickle_load_args)\u001b[0m\n\u001b[1;32m    417\u001b[0m             \u001b[0;34m(\u001b[0m\u001b[0msys\u001b[0m\u001b[0;34m.\u001b[0m\u001b[0mversion_info\u001b[0m\u001b[0;34m[\u001b[0m\u001b[0;36m0\u001b[0m\u001b[0;34m]\u001b[0m \u001b[0;34m==\u001b[0m \u001b[0;36m2\u001b[0m \u001b[0;32mand\u001b[0m \u001b[0misinstance\u001b[0m\u001b[0;34m(\u001b[0m\u001b[0mf\u001b[0m\u001b[0;34m,\u001b[0m \u001b[0municode\u001b[0m\u001b[0;34m)\u001b[0m\u001b[0;34m)\u001b[0m\u001b[0;34m:\u001b[0m\u001b[0;34m\u001b[0m\u001b[0;34m\u001b[0m\u001b[0m\n\u001b[1;32m    418\u001b[0m         \u001b[0mnew_fd\u001b[0m \u001b[0;34m=\u001b[0m \u001b[0;32mTrue\u001b[0m\u001b[0;34m\u001b[0m\u001b[0;34m\u001b[0m\u001b[0m\n\u001b[0;32m--> 419\u001b[0;31m         \u001b[0mf\u001b[0m \u001b[0;34m=\u001b[0m \u001b[0mopen\u001b[0m\u001b[0;34m(\u001b[0m\u001b[0mf\u001b[0m\u001b[0;34m,\u001b[0m \u001b[0;34m'rb'\u001b[0m\u001b[0;34m)\u001b[0m\u001b[0;34m\u001b[0m\u001b[0;34m\u001b[0m\u001b[0m\n\u001b[0m\u001b[1;32m    420\u001b[0m     \u001b[0;32melif\u001b[0m \u001b[0;34m(\u001b[0m\u001b[0msys\u001b[0m\u001b[0;34m.\u001b[0m\u001b[0mversion_info\u001b[0m\u001b[0;34m[\u001b[0m\u001b[0;36m0\u001b[0m\u001b[0;34m]\u001b[0m \u001b[0;34m==\u001b[0m \u001b[0;36m3\u001b[0m \u001b[0;32mand\u001b[0m \u001b[0misinstance\u001b[0m\u001b[0;34m(\u001b[0m\u001b[0mf\u001b[0m\u001b[0;34m,\u001b[0m \u001b[0mpathlib\u001b[0m\u001b[0;34m.\u001b[0m\u001b[0mPath\u001b[0m\u001b[0;34m)\u001b[0m\u001b[0;34m)\u001b[0m\u001b[0;34m:\u001b[0m\u001b[0;34m\u001b[0m\u001b[0;34m\u001b[0m\u001b[0m\n\u001b[1;32m    421\u001b[0m         \u001b[0mnew_fd\u001b[0m \u001b[0;34m=\u001b[0m \u001b[0;32mTrue\u001b[0m\u001b[0;34m\u001b[0m\u001b[0;34m\u001b[0m\u001b[0m\n",
      "\u001b[0;31mFileNotFoundError\u001b[0m: [Errno 2] No such file or directory: 'state_dict/lcf_bert_laptop_val_acc0.2492'"
     ]
    }
   ],
   "source": [
    "\n",
    "if __name__ == '__main__':\n",
    "\n",
    "    model_classes = {\n",
    "        'bert_spc': BERT_SPC,\n",
    "        'aen_bert': AEN_BERT,\n",
    "        'lcf_bert': LCF_BERT\n",
    "    }\n",
    "    # set your trained models here\n",
    "    state_dict_paths = {\n",
    "        'lcf_bert': 'state_dict/lcf_bert_laptop_val_acc0.2492',\n",
    "        'bert_spc': 'state_dict/bert_spc_laptop_val_acc0.268',\n",
    "        'aen_bert': 'state_dict/aen_bert_laptop_val_acc0.2006'\n",
    "    }\n",
    "\n",
    "    opt = get_parameters()\n",
    "    opt.device = torch.device('cuda' if torch.cuda.is_available() else 'cpu')\n",
    "\n",
    "    tokenizer = Tokenizer4Bert(opt.max_seq_len, opt.pretrained_bert_name)\n",
    "    bert = BertModel.from_pretrained(opt.pretrained_bert_name)\n",
    "    model = model_classes[opt.model_name](bert, opt).to(opt.device)\n",
    "    \n",
    "    print('loading model {0} ...'.format(opt.model_name))\n",
    "    model.load_state_dict(torch.load(state_dict_paths[opt.model_name]))\n",
    "    model.eval()\n",
    "    torch.autograd.set_grad_enabled(False)\n",
    "\n",
    "    # input: This little place has a cute interior decor and affordable city prices.\n",
    "    # text_left = This little place has a cute \n",
    "    # aspect = interior decor\n",
    "    # text_right = and affordable city prices.\n",
    "    \n",
    "    text_bert_indices, bert_segments_ids, text_raw_bert_indices, aspect_bert_indices = \\\n",
    "        prepare_data('This little place has a cute', 'interior decor', 'and affordable city prices.', tokenizer)\n",
    "    \n",
    "    \n",
    "#     text_bert_indices = torch.tensor([text_bert_indices], dtype=torch.int64).to(opt.device)\n",
    "#     bert_segments_ids = torch.tensor([bert_segments_ids], dtype=torch.int64).to(opt.device)\n",
    "#     text_raw_bert_indices = torch.tensor([text_raw_bert_indices], dtype=torch.int64).to(opt.device)\n",
    "#     aspect_bert_indices = torch.tensor([aspect_bert_indices], dtype=torch.int64).to(opt.device)\n",
    "#     if 'lcf' in opt.model_name:\n",
    "#         inputs = [text_bert_indices, bert_segments_ids, text_raw_bert_indices, aspect_bert_indices]\n",
    "#     elif 'aen' in opt.model_name:\n",
    "#         inputs = [text_raw_bert_indices, aspect_bert_indices]\n",
    "#     elif 'spc' in opt.model_name:\n",
    "#         inputs = [text_bert_indices, bert_segments_ids]\n",
    "#     outputs = model(inputs)\n",
    "#     t_probs = F.softmax(outputs, dim=-1).cpu().numpy()\n",
    "#     print('t_probs = ', t_probs)\n",
    "#     print('aspect sentiment = ', t_probs.argmax(axis=-1) - 1)\n",
    "\n"
   ]
  },
  {
   "cell_type": "code",
   "execution_count": 9,
   "metadata": {},
   "outputs": [
    {
     "ename": "AttributeError",
     "evalue": "'list' object has no attribute 'dropout'",
     "output_type": "error",
     "traceback": [
      "\u001b[0;31m---------------------------------------------------------------------------\u001b[0m",
      "\u001b[0;31mAttributeError\u001b[0m                            Traceback (most recent call last)",
      "\u001b[0;32m<ipython-input-9-ea4728c3f224>\u001b[0m in \u001b[0;36m<module>\u001b[0;34m\u001b[0m\n\u001b[1;32m     17\u001b[0m \u001b[0mtokenizer\u001b[0m \u001b[0;34m=\u001b[0m \u001b[0mTokenizer4Bert\u001b[0m\u001b[0;34m(\u001b[0m\u001b[0;36m768\u001b[0m\u001b[0;34m,\u001b[0m \u001b[0;34m'bert-base-uncased'\u001b[0m\u001b[0;34m)\u001b[0m\u001b[0;34m\u001b[0m\u001b[0;34m\u001b[0m\u001b[0m\n\u001b[1;32m     18\u001b[0m \u001b[0mbert\u001b[0m \u001b[0;34m=\u001b[0m \u001b[0mBertModel\u001b[0m\u001b[0;34m.\u001b[0m\u001b[0mfrom_pretrained\u001b[0m\u001b[0;34m(\u001b[0m\u001b[0;34m'bert-base-uncased'\u001b[0m\u001b[0;34m)\u001b[0m\u001b[0;34m\u001b[0m\u001b[0;34m\u001b[0m\u001b[0m\n\u001b[0;32m---> 19\u001b[0;31m \u001b[0mmodel\u001b[0m \u001b[0;34m=\u001b[0m \u001b[0mmodel_classes\u001b[0m\u001b[0;34m[\u001b[0m\u001b[0;34m'bert_spc'\u001b[0m\u001b[0;34m]\u001b[0m\u001b[0;34m(\u001b[0m\u001b[0mbert\u001b[0m\u001b[0;34m,\u001b[0m \u001b[0mopt\u001b[0m\u001b[0;34m)\u001b[0m\u001b[0;34m.\u001b[0m\u001b[0mto\u001b[0m\u001b[0;34m(\u001b[0m\u001b[0mdevice\u001b[0m\u001b[0;34m)\u001b[0m\u001b[0;34m\u001b[0m\u001b[0;34m\u001b[0m\u001b[0m\n\u001b[0m",
      "\u001b[0;32m~/temp/ABSA-PyTorch/models/bert_spc.py\u001b[0m in \u001b[0;36m__init__\u001b[0;34m(self, bert, opt)\u001b[0m\n\u001b[1;32m     11\u001b[0m         \u001b[0msuper\u001b[0m\u001b[0;34m(\u001b[0m\u001b[0mBERT_SPC\u001b[0m\u001b[0;34m,\u001b[0m \u001b[0mself\u001b[0m\u001b[0;34m)\u001b[0m\u001b[0;34m.\u001b[0m\u001b[0m__init__\u001b[0m\u001b[0;34m(\u001b[0m\u001b[0;34m)\u001b[0m\u001b[0;34m\u001b[0m\u001b[0;34m\u001b[0m\u001b[0m\n\u001b[1;32m     12\u001b[0m         \u001b[0mself\u001b[0m\u001b[0;34m.\u001b[0m\u001b[0mbert\u001b[0m \u001b[0;34m=\u001b[0m \u001b[0mbert\u001b[0m\u001b[0;34m\u001b[0m\u001b[0;34m\u001b[0m\u001b[0m\n\u001b[0;32m---> 13\u001b[0;31m         \u001b[0mself\u001b[0m\u001b[0;34m.\u001b[0m\u001b[0mdropout\u001b[0m \u001b[0;34m=\u001b[0m \u001b[0mnn\u001b[0m\u001b[0;34m.\u001b[0m\u001b[0mDropout\u001b[0m\u001b[0;34m(\u001b[0m\u001b[0mopt\u001b[0m\u001b[0;34m.\u001b[0m\u001b[0mdropout\u001b[0m\u001b[0;34m)\u001b[0m\u001b[0;34m\u001b[0m\u001b[0;34m\u001b[0m\u001b[0m\n\u001b[0m\u001b[1;32m     14\u001b[0m         \u001b[0mself\u001b[0m\u001b[0;34m.\u001b[0m\u001b[0mdense\u001b[0m \u001b[0;34m=\u001b[0m \u001b[0mnn\u001b[0m\u001b[0;34m.\u001b[0m\u001b[0mLinear\u001b[0m\u001b[0;34m(\u001b[0m\u001b[0mopt\u001b[0m\u001b[0;34m.\u001b[0m\u001b[0mbert_dim\u001b[0m\u001b[0;34m,\u001b[0m \u001b[0mopt\u001b[0m\u001b[0;34m.\u001b[0m\u001b[0mpolarities_dim\u001b[0m\u001b[0;34m)\u001b[0m\u001b[0;34m\u001b[0m\u001b[0;34m\u001b[0m\u001b[0m\n\u001b[1;32m     15\u001b[0m \u001b[0;34m\u001b[0m\u001b[0m\n",
      "\u001b[0;31mAttributeError\u001b[0m: 'list' object has no attribute 'dropout'"
     ]
    }
   ],
   "source": [
    "    model_classes = {\n",
    "        'bert_spc': BERT_SPC,\n",
    "        'aen_bert': AEN_BERT,\n",
    "        'lcf_bert': LCF_BERT\n",
    "    }\n",
    "    # set your trained models here\n",
    "    state_dict_paths = {\n",
    "        'lcf_bert': 'state_dict/lcf_bert_laptop_val_acc0.2492',\n",
    "        'bert_spc': 'state_dict/bert_spc_laptop_val_acc0.268',\n",
    "        'aen_bert': 'state_dict/aen_bert_laptop_val_acc0.2006'\n",
    "    }\n",
    "\n",
    "#     opt = get_parameters()\n",
    "    opt=[]\n",
    "    device = torch.device('cuda' if torch.cuda.is_available() else 'cpu')\n",
    "\n",
    "    tokenizer = Tokenizer4Bert(768, 'bert-base-uncased')\n",
    "    bert = BertModel.from_pretrained('bert-base-uncased')\n",
    "    model = model_classes['bert_spc'](bert, opt).to(device)"
   ]
  },
  {
   "cell_type": "code",
   "execution_count": 4,
   "metadata": {},
   "outputs": [
    {
     "ename": "NameError",
     "evalue": "name 'text_bert_indices' is not defined",
     "output_type": "error",
     "traceback": [
      "\u001b[0;31m---------------------------------------------------------------------------\u001b[0m",
      "\u001b[0;31mNameError\u001b[0m                                 Traceback (most recent call last)",
      "\u001b[0;32m<ipython-input-4-61b49c37cb5c>\u001b[0m in \u001b[0;36m<module>\u001b[0;34m\u001b[0m\n\u001b[0;32m----> 1\u001b[0;31m \u001b[0minputs\u001b[0m \u001b[0;34m=\u001b[0m \u001b[0;34m[\u001b[0m\u001b[0mtext_bert_indices\u001b[0m\u001b[0;34m,\u001b[0m \u001b[0mbert_segments_ids\u001b[0m\u001b[0;34m]\u001b[0m\u001b[0;34m\u001b[0m\u001b[0;34m\u001b[0m\u001b[0m\n\u001b[0m",
      "\u001b[0;31mNameError\u001b[0m: name 'text_bert_indices' is not defined"
     ]
    }
   ],
   "source": [
    "inputs = [text_bert_indices, bert_segments_ids]"
   ]
  },
  {
   "cell_type": "code",
   "execution_count": 5,
   "metadata": {},
   "outputs": [
    {
     "ename": "NameError",
     "evalue": "name 'tokenizer' is not defined",
     "output_type": "error",
     "traceback": [
      "\u001b[0;31m---------------------------------------------------------------------------\u001b[0m",
      "\u001b[0;31mNameError\u001b[0m                                 Traceback (most recent call last)",
      "\u001b[0;32m<ipython-input-5-7054c1357026>\u001b[0m in \u001b[0;36m<module>\u001b[0;34m\u001b[0m\n\u001b[1;32m      1\u001b[0m \u001b[0mtext_bert_indices\u001b[0m\u001b[0;34m,\u001b[0m \u001b[0mbert_segments_ids\u001b[0m\u001b[0;34m,\u001b[0m \u001b[0mtext_raw_bert_indices\u001b[0m\u001b[0;34m,\u001b[0m \u001b[0maspect_bert_indices\u001b[0m \u001b[0;34m=\u001b[0m\u001b[0;31m \u001b[0m\u001b[0;31m\\\u001b[0m\u001b[0;34m\u001b[0m\u001b[0;34m\u001b[0m\u001b[0m\n\u001b[0;32m----> 2\u001b[0;31m         \u001b[0mprepare_data\u001b[0m\u001b[0;34m(\u001b[0m\u001b[0;34m'This little place has a cute'\u001b[0m\u001b[0;34m,\u001b[0m \u001b[0;34m'interior decor'\u001b[0m\u001b[0;34m,\u001b[0m \u001b[0;34m'and affordable city prices.'\u001b[0m\u001b[0;34m,\u001b[0m \u001b[0mtokenizer\u001b[0m\u001b[0;34m)\u001b[0m\u001b[0;34m\u001b[0m\u001b[0;34m\u001b[0m\u001b[0m\n\u001b[0m",
      "\u001b[0;31mNameError\u001b[0m: name 'tokenizer' is not defined"
     ]
    }
   ],
   "source": [
    "text_bert_indices, bert_segments_ids, text_raw_bert_indices, aspect_bert_indices = \\\n",
    "        prepare_data('This little place has a cute', 'interior decor', 'and affordable city prices.', tokenizer)"
   ]
  },
  {
   "cell_type": "code",
   "execution_count": null,
   "metadata": {},
   "outputs": [],
   "source": []
  }
 ],
 "metadata": {
  "kernelspec": {
   "display_name": "Python 3",
   "language": "python",
   "name": "python3"
  },
  "language_info": {
   "codemirror_mode": {
    "name": "ipython",
    "version": 3
   },
   "file_extension": ".py",
   "mimetype": "text/x-python",
   "name": "python",
   "nbconvert_exporter": "python",
   "pygments_lexer": "ipython3",
   "version": "3.7.6"
  }
 },
 "nbformat": 4,
 "nbformat_minor": 4
}
